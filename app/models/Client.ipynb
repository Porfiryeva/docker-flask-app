{
 "cells": [
  {
   "cell_type": "code",
   "execution_count": 79,
   "id": "d197b8a3",
   "metadata": {},
   "outputs": [],
   "source": [
    "import requests\n",
    "import urllib.request\n",
    "import json\n",
    "import numpy as np\n",
    "import pandas as pd\n",
    "\n",
    "from sklearn.metrics import f1_score, roc_auc_score, precision_score, recall_score"
   ]
  },
  {
   "cell_type": "code",
   "execution_count": 80,
   "id": "bc68337d",
   "metadata": {},
   "outputs": [],
   "source": [
    "def get_metrics(y_test, preds):\n",
    "    \n",
    "    precision, recall, thresholds = precision_recall_curve(y_test, preds)\n",
    "    fscore = (2 * precision * recall) / (precision + recall)\n",
    "    ix = np.nanargmax(fscore)\n",
    "    \n",
    "    return roc_auc_score(y_test, preds), precision[ix], recall[ix], fscore[ix], thresholds[ix]"
   ]
  },
  {
   "cell_type": "code",
   "execution_count": 81,
   "id": "73468f99",
   "metadata": {},
   "outputs": [],
   "source": [
    "def send_json(x):\n",
    "    # ошибки с сериализацией json\n",
    "#     if isinstance(x, pd.core.series.Series):\n",
    "#         x.fillna('', inplace=True)  # не лучший вариант, но if np.isnan(obj) не срабатывает\n",
    "    \n",
    "    columns = ['age', 'workclass', 'fnlwgt', 'education', 'education.num', 'marital.status', \n",
    "               'occupation', 'relationship', 'race', 'capital.gain', 'capital.loss', \n",
    "               'hours.per.week']\n",
    "    \n",
    "    body = {column: value for column, value in zip(columns, x)} \n",
    "    # ошибки с сериализацией json:\n",
    "    for key, val in body.items():\n",
    "        if isinstance(val, np.integer):\n",
    "            body[key] = int(val)\n",
    "        elif isinstance(val, np.floating):          \n",
    "            body[key] = float(val)\n",
    "    \n",
    "#     myurl = 'http://127.0.0.1:5000' + '/predict'\n",
    "    myurl = 'http://127.0.0.1:8180/' + '/predict'\n",
    "    headers = {'content-type': 'application/json; charset=utf-8'}\n",
    "    response = requests.post(myurl, json=body, headers=headers)\n",
    "    return response.json()['predictions']"
   ]
  },
  {
   "cell_type": "code",
   "execution_count": 82,
   "id": "49ead8f0",
   "metadata": {},
   "outputs": [],
   "source": [
    "path = 'app/models/app_data/'\n",
    "X_test = pd.read_csv(path + 'X_test.csv')\n",
    "y_test = pd.read_csv(path + 'y_test.csv')"
   ]
  },
  {
   "cell_type": "code",
   "execution_count": 87,
   "id": "8c3c8780",
   "metadata": {},
   "outputs": [
    {
     "data": {
      "text/plain": [
       "age                               29\n",
       "workclass                    Private\n",
       "fnlwgt                        280618\n",
       "education               Some-college\n",
       "education.num                     10\n",
       "marital.status    Married-civ-spouse\n",
       "occupation         Handlers-cleaners\n",
       "relationship                 Husband\n",
       "race                           White\n",
       "capital.gain                       0\n",
       "capital.loss                       0\n",
       "hours.per.week                    40\n",
       "Name: 0, dtype: object"
      ]
     },
     "execution_count": 87,
     "metadata": {},
     "output_type": "execute_result"
    }
   ],
   "source": [
    "X_test.iloc[0, :]"
   ]
  },
  {
   "cell_type": "code",
   "execution_count": 83,
   "id": "29028bc9",
   "metadata": {},
   "outputs": [],
   "source": [
    "data = (29, 'Private', 280618, 'Some-college', 10, 'Married-civ-spouse', 'Handlers-cleaners',\n",
    "        'Husband', 'White', 0, 0, 40)"
   ]
  },
  {
   "cell_type": "code",
   "execution_count": 85,
   "id": "2f7a13e6",
   "metadata": {},
   "outputs": [
    {
     "data": {
      "text/plain": [
       "0.11250568899133974"
      ]
     },
     "execution_count": 85,
     "metadata": {},
     "output_type": "execute_result"
    }
   ],
   "source": [
    "response = send_json(data)\n",
    "response"
   ]
  },
  {
   "cell_type": "code",
   "execution_count": 86,
   "id": "de404abb",
   "metadata": {},
   "outputs": [
    {
     "data": {
      "text/plain": [
       "0.11250568899133974"
      ]
     },
     "execution_count": 86,
     "metadata": {},
     "output_type": "execute_result"
    }
   ],
   "source": [
    "response = send_json(X_test.iloc[0, :])\n",
    "response"
   ]
  },
  {
   "cell_type": "markdown",
   "id": "6dbfeb49",
   "metadata": {},
   "source": [
    "Пустой запрос"
   ]
  },
  {
   "cell_type": "code",
   "execution_count": 88,
   "id": "36135165",
   "metadata": {},
   "outputs": [
    {
     "data": {
      "text/html": [
       "<div>\n",
       "<style scoped>\n",
       "    .dataframe tbody tr th:only-of-type {\n",
       "        vertical-align: middle;\n",
       "    }\n",
       "\n",
       "    .dataframe tbody tr th {\n",
       "        vertical-align: top;\n",
       "    }\n",
       "\n",
       "    .dataframe thead th {\n",
       "        text-align: right;\n",
       "    }\n",
       "</style>\n",
       "<table border=\"1\" class=\"dataframe\">\n",
       "  <thead>\n",
       "    <tr style=\"text-align: right;\">\n",
       "      <th></th>\n",
       "      <th>age</th>\n",
       "      <th>workclass</th>\n",
       "      <th>fnlwgt</th>\n",
       "      <th>education</th>\n",
       "      <th>education.num</th>\n",
       "      <th>marital.status</th>\n",
       "      <th>occupation</th>\n",
       "      <th>relationship</th>\n",
       "      <th>race</th>\n",
       "      <th>capital.gain</th>\n",
       "      <th>capital.loss</th>\n",
       "      <th>hours.per.week</th>\n",
       "    </tr>\n",
       "  </thead>\n",
       "  <tbody>\n",
       "    <tr>\n",
       "      <th>0</th>\n",
       "      <td></td>\n",
       "      <td></td>\n",
       "      <td></td>\n",
       "      <td></td>\n",
       "      <td></td>\n",
       "      <td></td>\n",
       "      <td></td>\n",
       "      <td></td>\n",
       "      <td></td>\n",
       "      <td></td>\n",
       "      <td></td>\n",
       "      <td></td>\n",
       "    </tr>\n",
       "  </tbody>\n",
       "</table>\n",
       "</div>"
      ],
      "text/plain": [
       "  age workclass fnlwgt education education.num marital.status occupation  \\\n",
       "0                                                                          \n",
       "\n",
       "  relationship race capital.gain capital.loss hours.per.week  \n",
       "0                                                             "
      ]
     },
     "execution_count": 88,
     "metadata": {},
     "output_type": "execute_result"
    }
   ],
   "source": [
    "test_none = pd.DataFrame([['' for i in range(len(X_test.columns))]], columns=X_test.columns)\n",
    "test_none"
   ]
  },
  {
   "cell_type": "code",
   "execution_count": 89,
   "id": "3a7d082a",
   "metadata": {
    "scrolled": true
   },
   "outputs": [
    {
     "data": {
      "text/plain": [
       "'loop of ufunc does not support argument 0 of type str which has no callable sqrt method'"
      ]
     },
     "execution_count": 89,
     "metadata": {},
     "output_type": "execute_result"
    }
   ],
   "source": [
    "response = send_json(test_none.iloc[0, :])\n",
    "response"
   ]
  },
  {
   "cell_type": "markdown",
   "id": "42c0ccba",
   "metadata": {},
   "source": [
    "Несколько запросов"
   ]
  },
  {
   "cell_type": "code",
   "execution_count": 90,
   "id": "37e32c16",
   "metadata": {},
   "outputs": [],
   "source": [
    "N = 100"
   ]
  },
  {
   "cell_type": "code",
   "execution_count": 91,
   "id": "2ffe0341",
   "metadata": {},
   "outputs": [
    {
     "name": "stdout",
     "output_type": "stream",
     "text": [
      "CPU times: user 443 ms, sys: 19.1 ms, total: 462 ms\n",
      "Wall time: 6.99 s\n"
     ]
    }
   ],
   "source": [
    "%%time\n",
    "predictions = X_test.iloc[:100].apply(lambda x: send_json(x), axis=1)"
   ]
  },
  {
   "cell_type": "code",
   "execution_count": 105,
   "id": "46b01b8d",
   "metadata": {},
   "outputs": [
    {
     "data": {
      "text/plain": [
       "array([0.11006082, 0.00230376, 0.50173577, 0.04081379, 0.00108458])"
      ]
     },
     "execution_count": 105,
     "metadata": {},
     "output_type": "execute_result"
    }
   ],
   "source": [
    "predictions.values[:5]"
   ]
  },
  {
   "cell_type": "code",
   "execution_count": 92,
   "id": "36024331",
   "metadata": {},
   "outputs": [],
   "source": [
    "best_th = 0.317"
   ]
  },
  {
   "cell_type": "code",
   "execution_count": 93,
   "id": "d8d0332f",
   "metadata": {},
   "outputs": [
    {
     "data": {
      "text/plain": [
       "array([False, False,  True, False, False])"
      ]
     },
     "execution_count": 93,
     "metadata": {},
     "output_type": "execute_result"
    }
   ],
   "source": [
    "y_pred = predictions.values > 0.317\n",
    "y_pred[:5]"
   ]
  },
  {
   "cell_type": "markdown",
   "id": "75800611",
   "metadata": {},
   "source": [
    "Метрики"
   ]
  },
  {
   "cell_type": "code",
   "execution_count": 94,
   "id": "88fd0075",
   "metadata": {},
   "outputs": [],
   "source": [
    "roc_auc = roc_auc_score(y_test[:100], y_pred)\n",
    "prec = precision_score(y_test[:100], y_pred)\n",
    "rec = recall_score(y_test[:100], y_pred)\n",
    "f_score = f1_score(y_test[:100], y_pred)"
   ]
  },
  {
   "cell_type": "code",
   "execution_count": 95,
   "id": "77dcfb43",
   "metadata": {},
   "outputs": [
    {
     "name": "stdout",
     "output_type": "stream",
     "text": [
      "roc_auc: 0.7452, prec: 0.4583, rec: 0.6471, f-score: 0.5366\n"
     ]
    }
   ],
   "source": [
    "print(f'roc_auc: {roc_auc:.4f}, prec: {prec:.4f}, rec: {rec:.4f}, f-score: {f_score:.4f}')"
   ]
  },
  {
   "cell_type": "code",
   "execution_count": null,
   "id": "d86c2add",
   "metadata": {},
   "outputs": [],
   "source": []
  },
  {
   "cell_type": "code",
   "execution_count": 60,
   "id": "db66351b",
   "metadata": {},
   "outputs": [],
   "source": [
    "# class NpJsonEncoder(json.JSONEncoder):\n",
    "#   \"\"\"Serializes numpy objects as json.\"\"\"\n",
    "\n",
    "# def default(self, obj):\n",
    "#     if isinstance(obj, np.integer):\n",
    "#         return int(obj)\n",
    "#     elif isinstance(obj, np.bool_):\n",
    "#         return bool(obj)\n",
    "#     elif isinstance(obj, np.floating):\n",
    "#         if np.isnan(obj):\n",
    "#             return None  # Serialized as JSON null.\n",
    "#         return float(obj)\n",
    "#     elif isinstance(obj, np.ndarray):\n",
    "#         return obj.tolist()\n",
    "#     else:\n",
    "#         return super().default(obj)\n",
    "\n",
    "# body_js = json.dumps(body, cls=NpEncoder)"
   ]
  }
 ],
 "metadata": {
  "kernelspec": {
   "display_name": "Python 3 (ipykernel)",
   "language": "python",
   "name": "python3"
  },
  "language_info": {
   "codemirror_mode": {
    "name": "ipython",
    "version": 3
   },
   "file_extension": ".py",
   "mimetype": "text/x-python",
   "name": "python",
   "nbconvert_exporter": "python",
   "pygments_lexer": "ipython3",
   "version": "3.9.13"
  }
 },
 "nbformat": 4,
 "nbformat_minor": 5
}
